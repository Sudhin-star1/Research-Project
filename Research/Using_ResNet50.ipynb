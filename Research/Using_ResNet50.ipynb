{
  "nbformat": 4,
  "nbformat_minor": 0,
  "metadata": {
    "colab": {
      "provenance": [],
      "authorship_tag": "ABX9TyNhp2LcxGL2TAXDOCyQhVTA",
      "include_colab_link": true
    },
    "kernelspec": {
      "name": "python3",
      "display_name": "Python 3"
    },
    "language_info": {
      "name": "python"
    }
  },
  "cells": [
    {
      "cell_type": "markdown",
      "metadata": {
        "id": "view-in-github",
        "colab_type": "text"
      },
      "source": [
        "<a href=\"https://colab.research.google.com/github/Sudhin-star1/Research-Project/blob/sudhin/Research/Using_ResNet50.ipynb\" target=\"_parent\"><img src=\"https://colab.research.google.com/assets/colab-badge.svg\" alt=\"Open In Colab\"/></a>"
      ]
    },
    {
      "cell_type": "code",
      "execution_count": null,
      "metadata": {
        "id": "GPV_jkU954V2"
      },
      "outputs": [],
      "source": [
        "import tensorflow.keras as K"
      ]
    },
    {
      "cell_type": "code",
      "source": [],
      "metadata": {
        "id": "bH1vvb346AKJ"
      },
      "execution_count": null,
      "outputs": []
    }
  ]
}